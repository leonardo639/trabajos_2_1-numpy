{
  "cells": [
    {
      "cell_type": "markdown",
      "metadata": {
        "id": "lxym1orN4CLx"
      },
      "source": [
        "<table width='99%'>\n",
        "<tr>\n",
        "<td bgcolor='#52008E'>\n",
        "\n",
        "# **<font color=\"#FFFFFF\"> ◉ Módulo 1.- Manipulación de Datos con Python</font>**\n",
        "\n",
        "</td>\n",
        "</tr>\n",
        "</table>"
      ]
    },
    {
      "cell_type": "markdown",
      "metadata": {
        "id": "WZht3maI4QUj"
      },
      "source": [
        "<table width='99%'>\n",
        "<tr>\n",
        "<td bgcolor='#FFC901'>\n",
        "\n",
        "## **<font color=\"#000000\"> ◉ OBJETIVOS</font>**\n",
        "\n",
        "</td>\n",
        "</tr>\n",
        "</table>"
      ]
    },
    {
      "cell_type": "markdown",
      "metadata": {
        "id": "maMzK9PH4aIE"
      },
      "source": [
        "El objetivo del curso de Fundamentos de programación con Python y ETL, es proporcionar a los estudiantes los conocimientos y habilidades necesarios para comprender y aplicar los fundamentos de la programación en Python, así como también aprender a manipular y transformar datos utilizando librerías especializadas.\n",
        "\n",
        "Al finalizar el curso, los estudiantes serán capaces de desarrollar programas en Python, realizar análisis básicos de datos, automatizar tareas repetitivas, extraer información de fuentes web y ejecutar flujos de trabajo de ETL para integrar y transformar datos de diferentes fuentes, sentando así las bases para su desarrollo en el ámbito de la programación y el análisis de datos.\n"
      ]
    },
    {
      "cell_type": "markdown",
      "metadata": {
        "id": "KpMhWbaD4yfW"
      },
      "source": [
        "<table width='99%'>\n",
        "<tr>\n",
        "<td bgcolor='#FFC901'>\n",
        "\n",
        "## **<font color=\"#000000\"> ◉ DIRIGIDO A:</font>**\n",
        "\n",
        "</td>\n",
        "</tr>\n",
        "</table>"
      ]
    },
    {
      "cell_type": "markdown",
      "metadata": {
        "id": "_Bw0jh1h44VJ"
      },
      "source": [
        ">* **Principiantes en programación**: Aquellos que deseen aprender programación desde cero y comenzar con Python como su primer lenguaje de programación.\n",
        ">* **Estudiantes universitarios**: Estudiantes de carreras relacionadas con ciencias de la computación, ingeniería, matemáticas o disciplinas relacionadas, que deseen complementar su formación académica con habilidades en programación y análisis de datos.\n",
        ">* **Profesionales en desarrollo de software**: Desarrolladores de software que deseen ampliar sus habilidades y aprender Python como un lenguaje adicional para el desarrollo de aplicaciones.\n",
        ">* **Analistas de datos**: Profesionales que trabajan con datos y desean utilizar Python como una herramienta para manipular, analizar y visualizar datos.\n",
        ">* **Científicos de datos**: Aquellos que deseen utilizar Python como parte de su flujo de trabajo para realizar análisis de datos y modelado estadístico.\n",
        ">* **Profesionales en áreas relacionadas con ETL**: Personas que trabajan en el ámbito del procesamiento de datos, extracción y transformación de datos, y deseen utilizar Python como una herramienta para automatizar y optimizar flujos de trabajo de ETL.\n"
      ]
    },
    {
      "cell_type": "markdown",
      "metadata": {
        "id": "n3SDPqtf52YQ"
      },
      "source": [
        "<table width='99%'>\n",
        "<tr>\n",
        "<td bgcolor='#FFC901'>\n",
        "\n",
        "## **<font color=\"#000000\"> ◉ ¿Qué son las librerías de Python?</font>**\n",
        "\n",
        "</td>\n",
        "</tr>\n",
        "</table>"
      ]
    },
    {
      "cell_type": "markdown",
      "metadata": {
        "id": "lj43h_Iq6HXw"
      },
      "source": [
        "Una biblioteca (o librería) es un conjunto de módulos, funciones y objetos predefinidos que se utilizan para extender las capacidades del lenguaje y facilitar tareas específicas. Las bibliotecas de Python son colecciones de código reutilizable que han sido desarrolladas por la comunidad de Python para abordar una amplia variedad de problemas y necesidades.\n",
        "\n",
        "Las bibliotecas de Python se distribuyen como paquetes que contienen archivos con código fuente, documentación y recursos adicionales. Estos paquetes pueden ser instalados en un entorno de desarrollo de Python utilizando administradores de paquetes como **pip**, con lo que se hace posible acceder a las funcionalidades proporcionadas por la biblioteca y utilizarlas en tus propios programas."
      ]
    },
    {
      "cell_type": "markdown",
      "metadata": {
        "id": "qFY5fk6H6qiC"
      },
      "source": [
        "<table width='99%'>\n",
        "<tr>\n",
        "<td bgcolor='#FFC901'>\n",
        "\n",
        "## **<font color=\"#000000\"> ◉ Algunas líbrerías a utilizar</font>**\n",
        "\n",
        "</td>\n",
        "</tr>\n",
        "</table>"
      ]
    },
    {
      "cell_type": "markdown",
      "metadata": {
        "id": "tIpdwqKw63CO"
      },
      "source": [
        ">* **NumPy**: Proporciona un potente soporte para cálculos numéricos y científicos, incluyendo matrices multidimensionales, operaciones matemáticas avanzadas y herramientas para trabajar con datos.\n",
        ">* **Pandas**: Ofrece estructuras de datos y herramientas de análisis de datos fáciles de usar, como DataFrames, para manipular, limpiar y analizar datos de forma eficiente.\n",
        ">* **Matplotlib**: Permite crear visualizaciones y gráficos en 2D de alta calidad para explorar y comunicar datos de manera efectiva.\n",
        ">* **Scikit-learn**: Es una biblioteca de aprendizaje automático (machine learning) que proporciona una amplia gama de algoritmos y herramientas para tareas de clasificación, regresión, agrupamiento y más.\n",
        ">* **TensorFlow y PyTorch**: Son bibliotecas populares de aprendizaje automático y redes neuronales que permiten desarrollar modelos de aprendizaje profundo y realizar tareas de procesamiento de datos a gran escala."
      ]
    },
    {
      "cell_type": "markdown",
      "metadata": {
        "id": "dKl3cres8Hlh"
      },
      "source": [
        "<table width='99%'>\n",
        "<tr>\n",
        "<td bgcolor='#FFC901'>\n",
        "\n",
        "## **<font color=\"#000000\"> ◉ Ventajas</font>**\n",
        "\n",
        "</td>\n",
        "</tr>\n",
        "</table>"
      ]
    },
    {
      "cell_type": "markdown",
      "metadata": {
        "id": "8yvmImv48QPv"
      },
      "source": [
        "- **Eficiencia:** \\\n",
        "Librerías como Numpy y Pandas, proporcionan herramientas para la manipulación y análisis de grandes conjuntos de datos de manera eficiente.\\\n",
        "Esto permite trabajar con grandes cantidades de datos en un tiempo razonable.\n",
        "\n",
        "- **Visualización de datos:** \\\n",
        "Librerías como Matplotlib permiten crear gráficos y visualizaciones personalizadas de los datos.\\\n",
        "Esto puede ayudar a comprender mejor los patrones y las relaciones entre diferentes variables.\n",
        "\n",
        "- **Simulación y modelado:** \\\n",
        "Librerías como SciPy, proporcionan herramientas para el modelado y la simulación numérica de fenómenos complejos.\\\n",
        "Esto puede ayudar a realizar análisis predictivos y explorar diferentes escenarios de manera más efectiva.\n",
        "\n",
        "- **Estándares y compatibilidad:** \\\n",
        "Python es un lenguaje de programación popular y bien establecido, y muchas de sus librerías se han convertido en estándares de facto en la industria.\\\n",
        "Esto significa que hay una gran cantidad de recursos, tutoriales y ejemplos disponibles para aprender y aplicar estas bibliotecas.\n",
        "\n",
        "- **Personalización:** \\\n",
        "Las librerías son altamente personalizables y permiten ajustar y modificar las funciones y herramientas para satisfacer sus necesidades específicas."
      ]
    },
    {
      "cell_type": "markdown",
      "metadata": {
        "id": "ogCtFhqE9AiE"
      },
      "source": [
        "<table width='99%'>\n",
        "<tr>\n",
        "<td bgcolor='#FFC901'>\n",
        "\n",
        "## **<font color=\"#000000\"> ◉ Numpy</font>**\n",
        "\n",
        "</td>\n",
        "</tr>\n",
        "</table>"
      ]
    },
    {
      "cell_type": "markdown",
      "metadata": {
        "id": "JOzxTCj-9ONl"
      },
      "source": [
        "**NumPy (Numerical Python)** es una biblioteca fundamental de Python utilizada para realizar cálculos numéricos y científicos en el lenguaje de programación Python. Proporciona una estructura de datos eficiente y de alto rendimiento llamada \"ndarray\" (arreglo multidimensional) que permite almacenar y manipular grandes conjuntos de datos de manera eficiente."
      ]
    },
    {
      "cell_type": "markdown",
      "metadata": {
        "id": "c60Q0l529d6c"
      },
      "source": [
        "<table border=1 width='99%'>\n",
        "<tr>\n",
        "<td bgcolor='#009CDE'>\n",
        "\n",
        "\n",
        "### **<font color=\"#FFFFFF\"> ◉ Características</font>**\n",
        "\n",
        "</td>\n",
        "</tr>\n",
        "</table>"
      ]
    },
    {
      "cell_type": "markdown",
      "metadata": {
        "id": "Gh8BZHyb9jlf"
      },
      "source": [
        ">* **Arreglos multidimensionales**: NumPy introduce el objeto ndarray, que es un arreglo multidimensional homogéneo y eficiente en el uso de memoria. Estos arreglos pueden tener un número arbitrario de dimensiones y contener elementos de un solo tipo de datos, lo que permite realizar operaciones vectorizadas y eficientes en grandes volúmenes de datos.\n",
        ">* **Funciones matemáticas**: NumPy proporciona una amplia gama de funciones matemáticas y operaciones aritméticas que se pueden aplicar directamente a los arreglos. Esto incluye operaciones básicas como suma, resta, multiplicación y división, así como funciones más avanzadas como exponenciación, trigonometría, logaritmos, entre otras.\n",
        ">* **Operaciones de matriz**: NumPy ofrece funciones y métodos para realizar operaciones de álgebra lineal, como multiplicación de matrices, inversión de matrices, resolución de sistemas de ecuaciones lineales, descomposiciones, valores propios y más. Estas operaciones son esenciales en muchas áreas, como la ciencia de datos, la física, la ingeniería y la investigación académica.\n",
        ">* **Generación de números aleatorios**: NumPy incluye un generador de números aleatorios que permite crear secuencias de números aleatorios con diferentes distribuciones y propiedades estadísticas. Esto es útil para experimentos, simulaciones y aplicaciones que requieren aleatoriedad controlada.\n",
        ">* **Integración con otras bibliotecas**: NumPy se integra estrechamente con otras bibliotecas científicas y de análisis de datos en Python, como SciPy, pandas y Matplotlib. Estas bibliotecas aprovechan las capacidades de NumPy y proporcionan funcionalidades adicionales para realizar análisis estadísticos, visualizaciones, optimización, procesamiento de señales y más."
      ]
    },
    {
      "cell_type": "markdown",
      "metadata": {
        "id": "_PdZKb_Z_j7i"
      },
      "source": [
        "<table border=1 width='99%'>\n",
        "<tr>\n",
        "<td bgcolor='#009CDE'>\n",
        "\n",
        "\n",
        "### **<font color=\"#FFFFFF\"> ◉ Instalación</font>**\n",
        "\n",
        "</td>\n",
        "</tr>\n",
        "</table>"
      ]
    },
    {
      "cell_type": "code",
      "execution_count": 1,
      "metadata": {},
      "outputs": [
        {
          "name": "stdout",
          "output_type": "stream",
          "text": [
            "Requirement already satisfied: numpy in c:\\users\\user\\appdata\\local\\programs\\python\\python312\\lib\\site-packages (1.26.4)\n",
            "Note: you may need to restart the kernel to use updated packages.\n"
          ]
        }
      ],
      "source": [
        "%pip install numpy\n"
      ]
    },
    {
      "cell_type": "markdown",
      "metadata": {
        "id": "0n--gJhz_Lz1"
      },
      "source": [
        "\n",
        "\n",
        "```\n",
        "# En Visual Studio Code\n",
        "pip install numpy\n",
        "\n",
        "# En Colab\n",
        "!pip install numpy\n",
        "```\n",
        "\n"
      ]
    },
    {
      "cell_type": "code",
      "execution_count": null,
      "metadata": {
        "id": "5457gmgQ-YcU"
      },
      "outputs": [],
      "source": [
        "import numpy as np"
      ]
    },
    {
      "cell_type": "markdown",
      "metadata": {
        "id": "8UqxhoHF-my1"
      },
      "source": [
        "<table border=1 width='99%'>\n",
        "<tr>\n",
        "<td bgcolor='#009CDE'>\n",
        "\n",
        "### **<font color=\"#FFFFFF\"> ◉ Vectores</font>**\n",
        "\n",
        "</td>\n",
        "</tr>\n",
        "</table>"
      ]
    },
    {
      "cell_type": "markdown",
      "metadata": {
        "id": "2Z5aZPhw_sRc"
      },
      "source": [
        "Usaremos la función `array` para crear un vector:"
      ]
    },
    {
      "cell_type": "code",
      "execution_count": null,
      "metadata": {
        "colab": {
          "base_uri": "https://localhost:8080/"
        },
        "id": "TrgzO5CP_uE3",
        "outputId": "70f49447-f7b4-4603-9ee0-b23ba864cd76"
      },
      "outputs": [
        {
          "name": "stdout",
          "output_type": "stream",
          "text": [
            "[1 2 3 4 5]\n",
            "<class 'numpy.ndarray'>\n"
          ]
        }
      ],
      "source": [
        "import numpy as np\n",
        "vector = np.array([1, 2, 3, 4, 5])\n",
        "print(vector)\n",
        "print(type(vector))"
      ]
    },
    {
      "cell_type": "markdown",
      "metadata": {
        "id": "G46CWvpLAHqT"
      },
      "source": [
        "Este **vector** contiene el mismo tipo de información en cada posición. Lo verificamos usando el atributo `dtype`:"
      ]
    },
    {
      "cell_type": "code",
      "execution_count": null,
      "metadata": {
        "colab": {
          "base_uri": "https://localhost:8080/"
        },
        "id": "62bsEsstAPEU",
        "outputId": "789c8dd0-d5b3-4bd4-e18e-ef4011668690"
      },
      "outputs": [
        {
          "data": {
            "text/plain": [
              "dtype('int64')"
            ]
          },
          "execution_count": 6,
          "metadata": {},
          "output_type": "execute_result"
        }
      ],
      "source": [
        "import numpy as np\n",
        "vector = np.array([1, 2, 3, 4, 5])\n",
        "vector.dtype\n"
      ]
    },
    {
      "cell_type": "markdown",
      "metadata": {
        "id": "4fscw_eTAg5W"
      },
      "source": [
        "Para transformar los valores del vector de **integer** a **float**, usaremos la función `astype`:"
      ]
    },
    {
      "cell_type": "code",
      "execution_count": null,
      "metadata": {
        "colab": {
          "base_uri": "https://localhost:8080/"
        },
        "id": "qJaMA7MCAoMm",
        "outputId": "8851c90a-ade6-42a8-c8a9-4bc2b00b186f"
      },
      "outputs": [
        {
          "name": "stdout",
          "output_type": "stream",
          "text": [
            "int64\n",
            "[1. 2. 3. 4. 5.]\n",
            "float64\n"
          ]
        }
      ],
      "source": [
        "import numpy as np\n",
        "vector = np.array([1, 2, 3, 4, 5])\n",
        "print(vector.dtype)\n",
        "v = vector.astype(float)\n",
        "print(v)\n",
        "print(v.dtype)"
      ]
    },
    {
      "cell_type": "markdown",
      "metadata": {
        "id": "W1gGbRGABBYG"
      },
      "source": [
        "De manera similar a una lista o tupla, podemos seleccionar partes de un arreglo haciendo **slicing**:"
      ]
    },
    {
      "cell_type": "code",
      "execution_count": null,
      "metadata": {
        "colab": {
          "base_uri": "https://localhost:8080/"
        },
        "id": "z_Q25ZrxBHLs",
        "outputId": "863084ef-bcd5-416b-f4f6-471e046eb343"
      },
      "outputs": [
        {
          "name": "stdout",
          "output_type": "stream",
          "text": [
            "1\n"
          ]
        }
      ],
      "source": [
        "import numpy as np\n",
        "vector = np.array([1, 2, 3, 4, 5])\n",
        "# Primer elemento\n",
        "print(vector[0])"
      ]
    },
    {
      "cell_type": "code",
      "execution_count": null,
      "metadata": {
        "colab": {
          "base_uri": "https://localhost:8080/"
        },
        "id": "I-_E5SfCBRcL",
        "outputId": "d53db122-8f65-4310-ea23-2002a864eb54"
      },
      "outputs": [
        {
          "name": "stdout",
          "output_type": "stream",
          "text": [
            "[3 4 5]\n"
          ]
        }
      ],
      "source": [
        "import numpy as np\n",
        "#                  0  1  2  3  4\n",
        "vector = np.array([1, 2, 3, 4, 5])\n",
        "# Del tercer al quinto elemento\n",
        "print(vector[2:5])"
      ]
    },
    {
      "cell_type": "markdown",
      "metadata": {
        "id": "g2LPLCNIBs4v"
      },
      "source": [
        "También podemos reemplazar valores dentro del vector:"
      ]
    },
    {
      "cell_type": "code",
      "execution_count": null,
      "metadata": {
        "colab": {
          "base_uri": "https://localhost:8080/"
        },
        "id": "GMZXiI2qBu9r",
        "outputId": "4432cea7-dfb8-44b0-d96c-ee950b4f584f"
      },
      "outputs": [
        {
          "name": "stdout",
          "output_type": "stream",
          "text": [
            "[1 2 3 4 5]\n",
            "[ 1  2  3  4 10]\n"
          ]
        }
      ],
      "source": [
        "import numpy as np\n",
        "#                  -5 -4 -3 -2 -1\n",
        "vector = np.array([1, 2, 3, 4, 5])\n",
        "print(vector)\n",
        "vector[-1] = 10\n",
        "print(vector)"
      ]
    },
    {
      "cell_type": "code",
      "execution_count": null,
      "metadata": {
        "colab": {
          "base_uri": "https://localhost:8080/"
        },
        "id": "BF3TOSVSCbnI",
        "outputId": "ebb19a6b-0ad6-4869-8281-229d1f43cc62"
      },
      "outputs": [
        {
          "name": "stdout",
          "output_type": "stream",
          "text": [
            "Vector:  [1 2 3 4 5]\n",
            "Copia:  [1 2 3 4 5]\n",
            "Vector:  [ 1  2 30  4  5]\n",
            "Copia:  [ 1  2 30  4  5]\n"
          ]
        }
      ],
      "source": [
        "import numpy as np\n",
        "vector = np.array([1, 2, 3, 4, 5])\n",
        "print('Vector: ', vector)\n",
        "##################\n",
        "copia = vector\n",
        "##################\n",
        "print('Copia: ', copia)\n",
        "copia[2] = 30\n",
        "print('Vector: ', vector)\n",
        "print('Copia: ', copia)"
      ]
    },
    {
      "cell_type": "markdown",
      "metadata": {
        "id": "_AZdMfYoCDiw"
      },
      "source": [
        "Podemos crear una copia del arreglo usando el método `copy`:"
      ]
    },
    {
      "cell_type": "code",
      "execution_count": null,
      "metadata": {
        "colab": {
          "base_uri": "https://localhost:8080/"
        },
        "id": "1gaSlHvBCHTk",
        "outputId": "c27163f9-f1a9-4351-b6ad-511eeea9fbee"
      },
      "outputs": [
        {
          "name": "stdout",
          "output_type": "stream",
          "text": [
            "Vector:  [1 2 3 4 5]\n",
            "Copia:  [1 2 3 4 5]\n",
            "Vector:  [1 2 3 4 5]\n",
            "Copia:  [ 1  2 30  4  5]\n"
          ]
        }
      ],
      "source": [
        "import numpy as np\n",
        "vector = np.array([1, 2, 3, 4, 5])\n",
        "print('Vector: ', vector)\n",
        "copia = vector.copy()\n",
        "print('Copia: ', copia)\n",
        "copia[2] = 30\n",
        "print('Vector: ', vector)\n",
        "print('Copia: ', copia)\n"
      ]
    },
    {
      "cell_type": "markdown",
      "metadata": {
        "id": "WH0ROn0PDe94"
      },
      "source": [
        "Podemos ordenar los elementos en un arreglo en forma ascendente con `sort`:"
      ]
    },
    {
      "cell_type": "code",
      "execution_count": null,
      "metadata": {
        "colab": {
          "base_uri": "https://localhost:8080/"
        },
        "id": "6SHVS_ftDibJ",
        "outputId": "a73161d7-12c8-4790-f354-899ba36a2561"
      },
      "outputs": [
        {
          "name": "stdout",
          "output_type": "stream",
          "text": [
            "[5 2 3 7 1 6]\n",
            "[1 2 3 5 6 7]\n"
          ]
        }
      ],
      "source": [
        "vector = np.array([5, 2, 3, 7, 1, 6])\n",
        "ordenado = np.sort(vector)\n",
        "print(vector)\n",
        "print(ordenado)"
      ]
    },
    {
      "cell_type": "markdown",
      "metadata": {
        "id": "jO8RaUyREFnE"
      },
      "source": [
        "En forma descendente:"
      ]
    },
    {
      "cell_type": "code",
      "execution_count": null,
      "metadata": {
        "colab": {
          "base_uri": "https://localhost:8080/"
        },
        "id": "tPbyOBLpEJlp",
        "outputId": "64793683-05c3-48df-bd3a-16b85945e607"
      },
      "outputs": [
        {
          "name": "stdout",
          "output_type": "stream",
          "text": [
            "[5 2 3 7 1 6]\n",
            "[7 6 5 3 2 1]\n"
          ]
        }
      ],
      "source": [
        "vector = np.array([5, 2, 3, 7, 1, 6])\n",
        "descendente = np.sort(vector)[::-1]\n",
        "print(vector)\n",
        "print(descendente)"
      ]
    },
    {
      "cell_type": "markdown",
      "metadata": {
        "id": "XcEf6IJvEjr9"
      },
      "source": [
        "<table border=1 width='99%'>\n",
        "<tr>\n",
        "<td bgcolor='#009CDE'>\n",
        "\n",
        "### **<font color=\"#FFFFFF\"> ◉ Matrices</font>**\n",
        "\n",
        "</td>\n",
        "</tr>\n",
        "</table>"
      ]
    },
    {
      "cell_type": "markdown",
      "metadata": {
        "id": "qOKO6h5pErGd"
      },
      "source": [
        "Usaremos la función `array` y una **lista de listas** para crear una matriz:"
      ]
    },
    {
      "cell_type": "code",
      "execution_count": null,
      "metadata": {
        "colab": {
          "base_uri": "https://localhost:8080/"
        },
        "id": "4vd7zfpbEx2w",
        "outputId": "83fd1817-351f-4dbe-cf6b-d98ff0bc95c7"
      },
      "outputs": [
        {
          "name": "stdout",
          "output_type": "stream",
          "text": [
            "[[ 1  2  3]\n",
            " [ 4  5  6]\n",
            " [ 7  8  9]\n",
            " [10 11 12]]\n"
          ]
        }
      ],
      "source": [
        "matriz = np.array([[1, 2, 3], [4, 5, 6], [7, 8, 9], [10, 11, 12]])\n",
        "print(matriz)"
      ]
    },
    {
      "cell_type": "markdown",
      "metadata": {
        "id": "y42pLq0KFPsx"
      },
      "source": [
        "Para obtener el número de dimensiones (Filas y Columnas), usaremos el atributo `ndim`:\n"
      ]
    },
    {
      "cell_type": "code",
      "execution_count": null,
      "metadata": {
        "colab": {
          "base_uri": "https://localhost:8080/"
        },
        "id": "89Q3rubrFWYG",
        "outputId": "9e454c67-e3f7-43da-de8b-1ff355adb59a"
      },
      "outputs": [
        {
          "name": "stdout",
          "output_type": "stream",
          "text": [
            "2\n"
          ]
        }
      ],
      "source": [
        "matriz = np.array([[1, 2, 3], [4, 5, 6], [7, 8, 9], [10, 11, 12]])\n",
        "print(matriz.ndim)"
      ]
    },
    {
      "cell_type": "markdown",
      "metadata": {
        "id": "IWtxSo8AGOto"
      },
      "source": [
        "Para obtener el número de elementos en un arreglo, usaremos el atributo `size`:"
      ]
    },
    {
      "cell_type": "code",
      "execution_count": null,
      "metadata": {
        "colab": {
          "base_uri": "https://localhost:8080/"
        },
        "id": "Mdd-vuMXGSX-",
        "outputId": "87e5be58-1d91-4c4e-9350-d87b2b21a768"
      },
      "outputs": [
        {
          "name": "stdout",
          "output_type": "stream",
          "text": [
            "12\n"
          ]
        }
      ],
      "source": [
        "matriz = np.array([[1, 2, 3], [4, 5, 6], [7, 8, 9], [10, 11, 12]])\n",
        "print(matriz.size)"
      ]
    },
    {
      "cell_type": "markdown",
      "metadata": {
        "id": "WRzRuKegGh3E"
      },
      "source": [
        "Para obtener la forma de un arreglo, usaremos el atributo `shape`:"
      ]
    },
    {
      "cell_type": "code",
      "execution_count": null,
      "metadata": {
        "colab": {
          "base_uri": "https://localhost:8080/"
        },
        "id": "Ul2ss_L2GkM_",
        "outputId": "fb89f4ea-15e5-4294-9c8e-2a6a603c9dad"
      },
      "outputs": [
        {
          "name": "stdout",
          "output_type": "stream",
          "text": [
            "[[ 1  2  3]\n",
            " [ 4  5  6]\n",
            " [ 7  8  9]\n",
            " [10 11 12]]\n",
            "<class 'tuple'> : (4, 3)\n",
            "La matriz tiene 4 filas y 3 columnas.\n"
          ]
        }
      ],
      "source": [
        "matriz = np.array([[1, 2, 3], [4, 5, 6], [7, 8, 9], [10, 11, 12]])\n",
        "print(matriz)\n",
        "tupla = matriz.shape\n",
        "print(type(tupla), ':', tupla)\n",
        "filas, columnas = tupla\n",
        "print('La matriz tiene', filas, 'filas y', columnas, 'columnas.')\n"
      ]
    },
    {
      "cell_type": "markdown",
      "metadata": {
        "id": "Z1PtEBihHmes"
      },
      "source": [
        "Para hacer **slicing** a una matriz, debemos señalar la posición de la fila y columna en el siguiente orden: `arreglo[fila, columna]`"
      ]
    },
    {
      "cell_type": "code",
      "execution_count": null,
      "metadata": {
        "colab": {
          "base_uri": "https://localhost:8080/"
        },
        "id": "egSdoaP5Hr8s",
        "outputId": "af9ac415-748d-4d27-fe94-2569f1ec46aa"
      },
      "outputs": [
        {
          "name": "stdout",
          "output_type": "stream",
          "text": [
            "[[ 1  2  3]\n",
            " [ 4  5  6]\n",
            " [ 7  8  9]\n",
            " [10 11 12]]\n",
            "1\n"
          ]
        }
      ],
      "source": [
        "matriz = np.array([[1, 2, 3], [4, 5, 6], [7, 8, 9], [10, 11, 12]])\n",
        "print(matriz)\n",
        "# Mostrar el elemento de la primera fila y primera columna de la matriz\n",
        "print(matriz[0, 0])"
      ]
    },
    {
      "cell_type": "code",
      "execution_count": null,
      "metadata": {
        "colab": {
          "base_uri": "https://localhost:8080/"
        },
        "id": "TEsJF3fYIBHK",
        "outputId": "053677a2-cb84-434f-9d43-d38b8bd859a1"
      },
      "outputs": [
        {
          "name": "stdout",
          "output_type": "stream",
          "text": [
            "[1 2 3]\n"
          ]
        }
      ],
      "source": [
        "matriz = np.array([[1, 2, 3], [4, 5, 6], [7, 8, 9], [10, 11, 12]])\n",
        "# Mostrar la primera fila\n",
        "print(matriz[0, :])"
      ]
    },
    {
      "cell_type": "code",
      "execution_count": null,
      "metadata": {
        "colab": {
          "base_uri": "https://localhost:8080/"
        },
        "id": "F7WV-ltqIS8N",
        "outputId": "dbe6db35-69e4-4008-ee2e-3b921c6de15a"
      },
      "outputs": [
        {
          "name": "stdout",
          "output_type": "stream",
          "text": [
            "[[ 4  5  6]\n",
            " [ 7  8  9]\n",
            " [10 11 12]]\n"
          ]
        }
      ],
      "source": [
        "matriz = np.array([[1, 2, 3], [4, 5, 6], [7, 8, 9], [10, 11, 12]])\n",
        "# Mostrar a partir de la segunda fila\n",
        "print(matriz[1:, :])"
      ]
    },
    {
      "cell_type": "markdown",
      "metadata": {
        "id": "4-Us1hH8IyEJ"
      },
      "source": [
        "Podemos usar el método `reshape` para cambiar la forma del arreglo:"
      ]
    },
    {
      "cell_type": "code",
      "execution_count": null,
      "metadata": {
        "colab": {
          "base_uri": "https://localhost:8080/"
        },
        "id": "pf66YU8VI2yh",
        "outputId": "cc2f0f3d-db71-43d4-8cd5-7570f65210df"
      },
      "outputs": [
        {
          "name": "stdout",
          "output_type": "stream",
          "text": [
            "[[ 1  2  3]\n",
            " [ 4  5  6]\n",
            " [ 7  8  9]\n",
            " [10 11 12]]\n",
            "[[ 1  2  3  4  5  6  7  8  9 10 11 12]]\n"
          ]
        }
      ],
      "source": [
        "matriz = np.array([[1, 2, 3], [4, 5, 6], [7, 8, 9], [10, 11, 12]])\n",
        "print(matriz)\n",
        "vector = matriz.reshape((1,12))\n",
        "print(vector)"
      ]
    },
    {
      "cell_type": "markdown",
      "metadata": {
        "id": "H-hzWvHkJwFa"
      },
      "source": [
        "La transpuesta de una matriz se calcula usando el atributo `T`:"
      ]
    },
    {
      "cell_type": "code",
      "execution_count": null,
      "metadata": {
        "colab": {
          "base_uri": "https://localhost:8080/"
        },
        "id": "NNxyvAylJz5x",
        "outputId": "48dc8c43-8e22-4990-9dde-104e3bc3d511"
      },
      "outputs": [
        {
          "name": "stdout",
          "output_type": "stream",
          "text": [
            "[[ 1  4  7 10]\n",
            " [ 2  5  8 11]\n",
            " [ 3  6  9 12]]\n"
          ]
        }
      ],
      "source": [
        "matriz = np.array([[1, 2, 3], [4, 5, 6], [7, 8, 9], [10, 11, 12]])\n",
        "\n",
        "transpuesta = matriz.T\n",
        "\n",
        "print(transpuesta)"
      ]
    },
    {
      "cell_type": "markdown",
      "metadata": {
        "id": "ZLvm00QcKuec"
      },
      "source": [
        "Para reordenar los elementos de una matriz en un solo vector, podemos utilizar la función `flatten`:"
      ]
    },
    {
      "cell_type": "code",
      "execution_count": null,
      "metadata": {
        "colab": {
          "base_uri": "https://localhost:8080/"
        },
        "id": "xKtHPlZLKHPW",
        "outputId": "1a0a69f6-60ec-4a0b-ad31-ff1cf02cec56"
      },
      "outputs": [
        {
          "name": "stdout",
          "output_type": "stream",
          "text": [
            "[ 1  2  3  4  5  6  7  8  9 10 11 12]\n"
          ]
        }
      ],
      "source": [
        "matriz = np.array([[1, 2, 3], [4, 5, 6], [7, 8, 9], [10, 11, 12]])\n",
        "\n",
        "print(matriz.flatten())"
      ]
    },
    {
      "cell_type": "markdown",
      "metadata": {
        "id": "-n2PCUzeK7GU"
      },
      "source": [
        "<table width='99%'>\n",
        "<tr>\n",
        "<td bgcolor='#81BC06'>\n",
        "\n",
        "#### **<font color=\"#FFFFFF\"> ◉ Agrupación de matrices</font>**\n",
        "\n",
        "</td>\n",
        "</tr>\n",
        "</table>"
      ]
    },
    {
      "cell_type": "code",
      "execution_count": null,
      "metadata": {
        "colab": {
          "base_uri": "https://localhost:8080/"
        },
        "id": "bjsHEWyjLDW1",
        "outputId": "eaa9f158-ac4b-4324-87cd-541517afb9e8"
      },
      "outputs": [
        {
          "name": "stdout",
          "output_type": "stream",
          "text": [
            "[[ 1  2  3  7  8  9]\n",
            " [ 4  5  6 10 11 12]]\n"
          ]
        }
      ],
      "source": [
        "# Podemos agrupar las matrices horizontalmente con hstack\n",
        "matriz_1 = np.array([[1, 2, 3], [4, 5, 6]])\n",
        "matriz_2 = np.array([[7, 8, 9], [10, 11, 12]])\n",
        "\n",
        "matriz = np.hstack([matriz_1, matriz_2])\n",
        "\n",
        "print(matriz)"
      ]
    },
    {
      "cell_type": "code",
      "execution_count": null,
      "metadata": {
        "colab": {
          "base_uri": "https://localhost:8080/"
        },
        "id": "MiVP6FRnMBun",
        "outputId": "7b940ff6-3676-407a-8f8d-189c3518b976"
      },
      "outputs": [
        {
          "name": "stdout",
          "output_type": "stream",
          "text": [
            "[[ 1  2  3]\n",
            " [ 4  5  6]\n",
            " [ 7  8  9]\n",
            " [10 11 12]]\n"
          ]
        }
      ],
      "source": [
        "# Podemos agrupar las matrices vertical con vstack\n",
        "matriz_1 = np.array([[1, 2, 3], [4, 5, 6]])\n",
        "matriz_2 = np.array([[7, 8, 9], [10, 11, 12]])\n",
        "\n",
        "matriz = np.vstack([matriz_1, matriz_2])\n",
        "\n",
        "print(matriz)"
      ]
    },
    {
      "cell_type": "code",
      "execution_count": null,
      "metadata": {
        "colab": {
          "base_uri": "https://localhost:8080/"
        },
        "id": "SpC8-HQWMShF",
        "outputId": "71299b7e-2ef7-47f6-e8ae-4290c0b0aa73"
      },
      "outputs": [
        {
          "name": "stdout",
          "output_type": "stream",
          "text": [
            "[[ 1  2  3]\n",
            " [ 4  5  6]\n",
            " [ 7  8  9]\n",
            " [10 11 12]]\n"
          ]
        }
      ],
      "source": [
        "# Podemos usar la función concatenate para agruparloes de acuerdo a un eje (0: Vertical, 1: Horizontal)\n",
        "matriz_1 = np.array([[1, 2, 3], [4, 5, 6]])\n",
        "matriz_2 = np.array([[7, 8, 9], [10, 11, 12]])\n",
        "\n",
        "matriz = np.concatenate([matriz_1, matriz_2], axis=0)\n",
        "\n",
        "print(matriz)"
      ]
    },
    {
      "cell_type": "code",
      "execution_count": null,
      "metadata": {
        "colab": {
          "base_uri": "https://localhost:8080/"
        },
        "id": "fqmkAgdjMtj0",
        "outputId": "f621c129-ef3a-476c-80e4-ac595eaede34"
      },
      "outputs": [
        {
          "name": "stdout",
          "output_type": "stream",
          "text": [
            "[[ 1  2  3  7  8  9]\n",
            " [ 4  5  6 10 11 12]]\n"
          ]
        }
      ],
      "source": [
        "# Podemos usar la función concatenate para agruparloes de acuerdo a un eje (0: Vertical, 1: Horizontal)\n",
        "matriz_1 = np.array([[1, 2, 3], [4, 5, 6]])\n",
        "matriz_2 = np.array([[7, 8, 9], [10, 11, 12]])\n",
        "\n",
        "matriz = np.concatenate([matriz_1, matriz_2], axis=1)\n",
        "\n",
        "print(matriz)"
      ]
    },
    {
      "cell_type": "markdown",
      "metadata": {
        "id": "ZNkf4uS9M4pX"
      },
      "source": [
        "<table width='99%'>\n",
        "<tr>\n",
        "<td bgcolor='#81BC06'>\n",
        "\n",
        "#### **<font color=\"#FFFFFF\"> ◉ Matriz cero o Matriz uno</font>**\n",
        "\n",
        "</td>\n",
        "</tr>\n",
        "</table>"
      ]
    },
    {
      "cell_type": "code",
      "execution_count": null,
      "metadata": {
        "colab": {
          "base_uri": "https://localhost:8080/"
        },
        "id": "QV68vs9xM-ZA",
        "outputId": "fa375828-175a-4ff0-cabf-afd4760d66b5"
      },
      "outputs": [
        {
          "name": "stdout",
          "output_type": "stream",
          "text": [
            "[[0. 0. 0. 0.]\n",
            " [0. 0. 0. 0.]\n",
            " [0. 0. 0. 0.]]\n"
          ]
        }
      ],
      "source": [
        "matriz = np.zeros(shape=(3,3))\n",
        "print(matriz)\n"
      ]
    },
    {
      "cell_type": "code",
      "execution_count": null,
      "metadata": {
        "colab": {
          "base_uri": "https://localhost:8080/"
        },
        "id": "avvI90vDNJ2D",
        "outputId": "9e377cac-c508-4855-f709-90338836130d"
      },
      "outputs": [
        {
          "name": "stdout",
          "output_type": "stream",
          "text": [
            "[[1. 1. 1. 1.]\n",
            " [1. 1. 1. 1.]\n",
            " [1. 1. 1. 1.]]\n"
          ]
        }
      ],
      "source": [
        "matriz = np.ones(shape=(3,4))\n",
        "print(matriz)"
      ]
    },
    {
      "cell_type": "markdown",
      "metadata": {
        "id": "_eGs3LpYNcoy"
      },
      "source": [
        "<table border=1 width='99%'>\n",
        "<tr>\n",
        "<td bgcolor='#009CDE'>\n",
        "\n",
        "### **<font color=\"#FFFFFF\"> ◉ ALGEBRA LÍNEAL</font>**\n",
        "\n",
        "</td>\n",
        "</tr>\n",
        "</table>"
      ]
    },
    {
      "cell_type": "code",
      "execution_count": null,
      "metadata": {
        "id": "4c8CIHNvRv5q"
      },
      "outputs": [],
      "source": [
        "# Dos vectores:\n",
        "vector1 = np.array([1, 2, 3, 4])\n",
        "vector2 = np.array([5, 6, 7, 8])"
      ]
    },
    {
      "cell_type": "code",
      "execution_count": null,
      "metadata": {
        "colab": {
          "base_uri": "https://localhost:8080/"
        },
        "id": "1sj1cF2NSO6I",
        "outputId": "be46ad0c-e84a-4d3c-b994-a4e7cc1fa3ad"
      },
      "outputs": [
        {
          "name": "stdout",
          "output_type": "stream",
          "text": [
            "[ 6  8 10 12]\n"
          ]
        }
      ],
      "source": [
        "# Suma de vectores\n",
        "vector_suma = vector1 + vector2\n",
        "print(vector_suma)"
      ]
    },
    {
      "cell_type": "code",
      "execution_count": null,
      "metadata": {
        "colab": {
          "base_uri": "https://localhost:8080/"
        },
        "id": "byG0S8gWSca9",
        "outputId": "aec49f34-e473-491d-d0db-996dfd0a7705"
      },
      "outputs": [
        {
          "name": "stdout",
          "output_type": "stream",
          "text": [
            "[4 4 4 4]\n"
          ]
        }
      ],
      "source": [
        "# diferencia de vectores\n",
        "vector_diferencia = vector2 - vector1\n",
        "print(vector_diferencia)"
      ]
    },
    {
      "cell_type": "code",
      "execution_count": null,
      "metadata": {
        "colab": {
          "base_uri": "https://localhost:8080/"
        },
        "id": "4MhbgpOPSphr",
        "outputId": "ea74b9a5-1ea3-48fc-ad70-6899f41db586"
      },
      "outputs": [
        {
          "name": "stdout",
          "output_type": "stream",
          "text": [
            "[ 5 12 21 32]\n",
            "Producto escalar: 70\n"
          ]
        }
      ],
      "source": [
        "# Multiplicar vectores\n",
        "vector = vector2 * vector1\n",
        "print(vector)\n",
        "print('Producto escalar:', sum(vector))"
      ]
    },
    {
      "cell_type": "code",
      "execution_count": null,
      "metadata": {
        "colab": {
          "base_uri": "https://localhost:8080/"
        },
        "id": "i57WTx9US3z0",
        "outputId": "0af9fa70-649c-403f-c187-4c31d79ff55f"
      },
      "outputs": [
        {
          "name": "stdout",
          "output_type": "stream",
          "text": [
            "[5.         3.         2.33333333 2.        ]\n"
          ]
        }
      ],
      "source": [
        "# Dividir vectores\n",
        "vector = vector2 / vector1\n",
        "print(vector)"
      ]
    },
    {
      "cell_type": "code",
      "execution_count": null,
      "metadata": {
        "colab": {
          "base_uri": "https://localhost:8080/"
        },
        "id": "tjNODsNkTDia",
        "outputId": "683d888f-dbd4-4b04-f42c-74db30b45ee7"
      },
      "outputs": [
        {
          "name": "stdout",
          "output_type": "stream",
          "text": [
            "70\n"
          ]
        }
      ],
      "source": [
        "# Producto escalar\n",
        "vector = np.dot(vector1, vector2)\n",
        "print(vector)"
      ]
    },
    {
      "cell_type": "markdown",
      "metadata": {
        "id": "g-qlIRxdTlvt"
      },
      "source": [
        "<table border=1 width='99%'>\n",
        "<tr>\n",
        "<td bgcolor='#009CDE'>\n",
        "\n",
        "### **<font color=\"#FFFFFF\"> ◉ Creación de vectores usando arreglo de valores booleanos - Máscaras o mask</font>**\n",
        "\n",
        "</td>\n",
        "</tr>\n",
        "</table>"
      ]
    },
    {
      "cell_type": "code",
      "execution_count": null,
      "metadata": {
        "colab": {
          "base_uri": "https://localhost:8080/"
        },
        "id": "RbG2tm9wUCOv",
        "outputId": "814b8e68-83ec-4fd0-fccc-49188d43853b"
      },
      "outputs": [
        {
          "name": "stdout",
          "output_type": "stream",
          "text": [
            "[1 2 3 4 5 6 7 8 9]\n",
            "[False False False  True  True  True  True  True  True]\n"
          ]
        }
      ],
      "source": [
        "vector = np.array([1, 2, 3, 4, 5, 6, 7, 8, 9])\n",
        "print(vector)\n",
        "\n",
        "vector_1 = (vector >= 4)\n",
        "print(vector_1)\n"
      ]
    },
    {
      "cell_type": "markdown",
      "metadata": {
        "id": "S8V_yMEPUeDN"
      },
      "source": [
        "<table width='99%'>\n",
        "<tr>\n",
        "<td bgcolor='#F35325'>\n",
        "\n",
        "##### **<font color=\"#FFFFFF\"> ◉ Uso de where</font>**\n",
        "\n",
        "</td>\n",
        "</tr>\n",
        "</table>"
      ]
    },
    {
      "cell_type": "code",
      "execution_count": null,
      "metadata": {
        "colab": {
          "base_uri": "https://localhost:8080/"
        },
        "id": "0FxdaPW6UltX",
        "outputId": "9a85b2cf-5b62-4116-cee0-e06d79fd90eb"
      },
      "outputs": [
        {
          "name": "stdout",
          "output_type": "stream",
          "text": [
            "[0 0 0 1 1 1 1 1 1]\n"
          ]
        }
      ],
      "source": [
        "vector = np.array([1, 2, 3, 4, 5, 6, 7, 8, 9])\n",
        "# Reemplazamos los valores del vector mayores o iguales a cuatro por 1 y los menores por el valor 0.\n",
        "vector_1 = np.where(vector >= 4, 1, 0)\n",
        "print(vector_1)"
      ]
    },
    {
      "cell_type": "markdown",
      "metadata": {
        "id": "1KpvhaEhVnQS"
      },
      "source": [
        "<table width='99%'>\n",
        "<tr>\n",
        "<td bgcolor='#81BC06'>\n",
        "\n",
        "#### **<font color=\"#FFFFFF\"> ◉ Funciones básicas para los arreglos</font>**\n",
        "\n",
        "</td>\n",
        "</tr>\n",
        "</table>"
      ]
    },
    {
      "cell_type": "code",
      "execution_count": null,
      "metadata": {
        "colab": {
          "base_uri": "https://localhost:8080/"
        },
        "id": "vez_8ZHgVuxA",
        "outputId": "913322d6-17fe-48f8-bd0b-b5651fb5ee76"
      },
      "outputs": [
        {
          "name": "stdout",
          "output_type": "stream",
          "text": [
            "Suma: 45\n",
            "Máximo: 9\n",
            "Mínimo: 1\n",
            "Promedio: 5.0\n",
            "Varianza: 6.666666666666667\n",
            "Desviación estándar: 2.581988897471611\n"
          ]
        }
      ],
      "source": [
        "vector = np.array([1, 2, 3, 4, 5, 6, 7, 8, 9])\n",
        "print('Suma:', vector.sum())\n",
        "print('Máximo:', vector.max())\n",
        "print('Mínimo:', vector.min())\n",
        "print('Promedio:', vector.mean())\n",
        "print('Varianza:', vector.var())\n",
        "print('Desviación estándar:', vector.std())"
      ]
    },
    {
      "cell_type": "markdown",
      "metadata": {
        "id": "5PUVp7qYWV5Z"
      },
      "source": [
        "<table width='99%'>\n",
        "<tr>\n",
        "<td bgcolor='#81BC06'>\n",
        "\n",
        "#### **<font color=\"#FFFFFF\"> ◉ Constantes</font>**\n",
        "\n",
        "</td>\n",
        "</tr>\n",
        "</table>"
      ]
    },
    {
      "cell_type": "code",
      "execution_count": null,
      "metadata": {
        "colab": {
          "base_uri": "https://localhost:8080/"
        },
        "id": "K1vHGRfcWZkF",
        "outputId": "82b3044b-7d73-4e54-cf3f-6d6bd6ee3024"
      },
      "outputs": [
        {
          "name": "stdout",
          "output_type": "stream",
          "text": [
            "Valor infinito:  inf\n",
            "Valor nulo o vacío:  nan\n",
            "Número de Euler:  2.718281828459045\n",
            "PI:  3.141592653589793\n"
          ]
        }
      ],
      "source": [
        "print('Valor infinito: ', np.inf)\n",
        "print('Valor nulo o vacío: ', np.nan)\n",
        "print('Número de Euler: ', np.e)\n",
        "print('PI: ', np.pi)\n",
        "\n"
      ]
    },
    {
      "cell_type": "markdown",
      "metadata": {
        "id": "d0kEwKhcW9yx"
      },
      "source": [
        "<table width='99%'>\n",
        "<tr>\n",
        "<td bgcolor='#81BC06'>\n",
        "\n",
        "#### **<font color=\"#FFFFFF\"> ◉ Espacios líneales</font>**\n",
        "\n",
        "</td>\n",
        "</tr>\n",
        "</table>"
      ]
    },
    {
      "cell_type": "code",
      "execution_count": null,
      "metadata": {
        "colab": {
          "base_uri": "https://localhost:8080/"
        },
        "id": "Ce-mGaDGXCxW",
        "outputId": "223ab0df-6d83-4aaf-d490-af594f4bfc7a"
      },
      "outputs": [
        {
          "name": "stdout",
          "output_type": "stream",
          "text": [
            "[1 2 3 4 5 6 7 8 9]\n",
            "[ 1.  2.  3.  4.  5.  6.  7.  8.  9. 10.]\n",
            "[ 1.    3.25  5.5   7.75 10.  ]\n"
          ]
        }
      ],
      "source": [
        "print(np.arange(1, 10, 1))\n",
        "print(np.linspace(1, 10, 10))\n",
        "print(np.linspace(1, 10, 5))"
      ]
    },
    {
      "cell_type": "markdown",
      "metadata": {
        "id": "A7GVPCB8Xkcy"
      },
      "source": [
        "<table width='99%'>\n",
        "<tr>\n",
        "<td bgcolor='#81BC06'>\n",
        "\n",
        "#### **<font color=\"#FFFFFF\"> ◉ Valores aleatorios</font>**\n",
        "\n",
        "</td>\n",
        "</tr>\n",
        "</table>"
      ]
    },
    {
      "cell_type": "code",
      "execution_count": null,
      "metadata": {
        "colab": {
          "base_uri": "https://localhost:8080/"
        },
        "id": "1DNBkZg3Xr29",
        "outputId": "c664f87a-06d6-4416-9dc5-83084fcfdf8a"
      },
      "outputs": [
        {
          "name": "stdout",
          "output_type": "stream",
          "text": [
            "0.24401574690025918\n"
          ]
        }
      ],
      "source": [
        "aleatorios = np.random.default_rng()\n",
        "print(aleatorios.random())"
      ]
    },
    {
      "cell_type": "markdown",
      "metadata": {
        "id": "ClOBWbyoYvlq"
      },
      "source": [
        "<table width='99%'>\n",
        "<tr>\n",
        "<td bgcolor='#81BC06'>\n",
        "\n",
        "#### **<font color=\"#FFFFFF\"> ◉ Distribución uniforme</font>**\n",
        "\n",
        "</td>\n",
        "</tr>\n",
        "</table>"
      ]
    },
    {
      "cell_type": "code",
      "execution_count": null,
      "metadata": {
        "colab": {
          "base_uri": "https://localhost:8080/"
        },
        "id": "vqLvtfC5Y1Ic",
        "outputId": "c2f488ff-9224-471a-b439-8ea155f22e12"
      },
      "outputs": [
        {
          "data": {
            "text/plain": [
              "0.10046678495817474"
            ]
          },
          "execution_count": 144,
          "metadata": {},
          "output_type": "execute_result"
        }
      ],
      "source": [
        "# Un número aleatorio de una distribución uniforme entre 0 y 5\n",
        "aleatorios.uniform(0,5)"
      ]
    },
    {
      "cell_type": "code",
      "execution_count": null,
      "metadata": {
        "colab": {
          "base_uri": "https://localhost:8080/"
        },
        "id": "9YeLyd70ZFiK",
        "outputId": "53a13c46-ebb3-4ccf-a1ac-240d7ee4a532"
      },
      "outputs": [
        {
          "data": {
            "text/plain": [
              "3"
            ]
          },
          "execution_count": 140,
          "metadata": {},
          "output_type": "execute_result"
        }
      ],
      "source": [
        "# Número aleatorio entre 1 y 6\n",
        "aleatorios.integers(1,7)"
      ]
    },
    {
      "cell_type": "markdown",
      "metadata": {
        "id": "XKrO95MJZt7s"
      },
      "source": [
        "<table width='99%'>\n",
        "<tr>\n",
        "<td bgcolor='#81BC06'>\n",
        "\n",
        "#### **<font color=\"#FFFFFF\"> ◉ Matriz de tamaño 2 x 2 compuesta de valores aleatorios de una distribución normal de media 0 y varianza 1</font>**\n",
        "\n",
        "</td>\n",
        "</tr>\n",
        "</table>"
      ]
    },
    {
      "cell_type": "code",
      "execution_count": null,
      "metadata": {
        "colab": {
          "base_uri": "https://localhost:8080/"
        },
        "id": "jaTKdgE7aDtL",
        "outputId": "3ab5178a-45e2-4ca5-cb21-ebdfdb6cd40b"
      },
      "outputs": [
        {
          "name": "stdout",
          "output_type": "stream",
          "text": [
            "[[ 0.56296871 -0.38479489]\n",
            " [ 1.71633653  0.05789076]]\n"
          ]
        }
      ],
      "source": [
        "matriz_aleatorios = aleatorios.normal(size=(2,2))\n",
        "print(matriz_aleatorios)"
      ]
    },
    {
      "cell_type": "markdown",
      "metadata": {
        "id": "IsNj_d-Lapzy"
      },
      "source": [
        "<table border=1 width='99%'>\n",
        "<tr>\n",
        "<td bgcolor='#009CDE'>\n",
        "\n",
        "### **<font color=\"#FFFFFF\"> ◉ Simulación de valores aleatorios</font>**\n",
        "\n",
        "</td>\n",
        "</tr>\n",
        "</table>"
      ]
    },
    {
      "cell_type": "code",
      "execution_count": null,
      "metadata": {
        "colab": {
          "base_uri": "https://localhost:8080/",
          "height": 522
        },
        "id": "eNwHgilLa0XD",
        "outputId": "2818782f-e848-4776-afd1-dd50d793880c"
      },
      "outputs": [
        {
          "data": {
            "image/png": "[encoded data removed]",
            "text/plain": [
              "<Figure size 600x600 with 1 Axes>"
            ]
          },
          "metadata": {},
          "output_type": "display_data"
        }
      ],
      "source": [
        "# Crear 100 números aleatorios que se aproximen a una recta: y = 3*x+1\n",
        "import numpy as np\n",
        "import matplotlib.pyplot as plt\n",
        "\n",
        "aleatorios = np.random.default_rng()\n",
        "\n",
        "x = aleatorios.normal(size=(10, 10))\n",
        "y = 3 * x  + aleatorios.normal(size=(10, 10)) + 1\n",
        "\n",
        "fig, ax = plt.subplots(figsize=(6,6))\n",
        "\n",
        "# Diagrama de dispersión\n",
        "ax.scatter(x, y)\n",
        "\n",
        "plt.show()\n"
      ]
    },
    {
      "cell_type": "markdown",
      "metadata": {
        "id": "hPwkrJgpeUaw"
      },
      "source": [
        "<table width='99%'>\n",
        "<tr>\n",
        "<td bgcolor='#81BC06'>\n",
        "\n",
        "#### **<font color=\"#FFFFFF\"> ◉ Valores aleatorios</font>**\n",
        "\n",
        "</td>\n",
        "</tr>\n",
        "</table>"
      ]
    }
  ],
  "metadata": {
    "colab": {
      "provenance": []
    },
    "kernelspec": {
      "display_name": "Python 3",
      "name": "python3"
    },
    "language_info": {
      "codemirror_mode": {
        "name": "ipython",
        "version": 3
      },
      "file_extension": ".py",
      "mimetype": "text/x-python",
      "name": "python",
      "nbconvert_exporter": "python",
      "pygments_lexer": "ipython3",
      "version": "3.12.2"
    }
  },
  "nbformat": 4,
  "nbformat_minor": 0
}
